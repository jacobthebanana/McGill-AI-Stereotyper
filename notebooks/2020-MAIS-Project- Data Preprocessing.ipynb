{
  "nbformat": 4,
  "nbformat_minor": 0,
  "metadata": {
    "colab": {
      "name": "Copy of 2020-Winter-MAIS-Project.ipynb",
      "provenance": [],
      "collapsed_sections": [
        "1QzBXP1Notcf"
      ],
      "toc_visible": true,
      "machine_shape": "hm"
    },
    "kernelspec": {
      "name": "python3",
      "display_name": "Python 3"
    }
  },
  "cells": [
    {
      "cell_type": "code",
      "metadata": {
        "id": "ZLK9bfzvCr8U",
        "colab_type": "code",
        "colab": {}
      },
      "source": [
        "from functools import reduce\n",
        "import numpy as np\n",
        "import os.path  # So we can save time recalculating a whole bunch of data."
      ],
      "execution_count": 0,
      "outputs": []
    },
    {
      "cell_type": "markdown",
      "metadata": {
        "id": "1QzBXP1Notcf",
        "colab_type": "text"
      },
      "source": [
        "## Download Datasets"
      ]
    },
    {
      "cell_type": "code",
      "metadata": {
        "id": "dBRwwm072y1w",
        "colab_type": "code",
        "outputId": "a78ca995-6d7a-4e98-b986-23e7c1606ab4",
        "colab": {
          "base_uri": "https://localhost:8080/",
          "height": 1000
        }
      },
      "source": [
        "!wget https://datasets.imdbws.com/name.basics.tsv.gz\n",
        "!wget https://datasets.imdbws.com/title.akas.tsv.gz\n",
        "!wget https://datasets.imdbws.com/title.basics.tsv.gz\n",
        "!wget https://datasets.imdbws.com/title.crew.tsv.gz\n",
        "!wget https://datasets.imdbws.com/title.principals.tsv.gz\n",
        "!wget https://datasets.imdbws.com/title.ratings.tsv.gz"
      ],
      "execution_count": 0,
      "outputs": [
        {
          "output_type": "stream",
          "text": [
            "--2020-03-16 13:48:53--  https://datasets.imdbws.com/name.basics.tsv.gz\n",
            "Resolving datasets.imdbws.com (datasets.imdbws.com)... 13.226.42.60, 13.226.42.104, 13.226.42.43, ...\n",
            "Connecting to datasets.imdbws.com (datasets.imdbws.com)|13.226.42.60|:443... connected.\n",
            "HTTP request sent, awaiting response... 200 OK\n",
            "Length: 216255859 (206M) [binary/octet-stream]\n",
            "Saving to: ‘name.basics.tsv.gz’\n",
            "\n",
            "name.basics.tsv.gz  100%[===================>] 206.24M  81.2MB/s    in 2.5s    \n",
            "\n",
            "2020-03-16 13:48:56 (81.2 MB/s) - ‘name.basics.tsv.gz’ saved [216255859/216255859]\n",
            "\n",
            "--2020-03-16 13:48:57--  https://datasets.imdbws.com/title.akas.tsv.gz\n",
            "Resolving datasets.imdbws.com (datasets.imdbws.com)... 13.35.118.115, 13.35.118.120, 13.35.118.25, ...\n",
            "Connecting to datasets.imdbws.com (datasets.imdbws.com)|13.35.118.115|:443... connected.\n",
            "HTTP request sent, awaiting response... 200 OK\n",
            "Length: 179448700 (171M) [binary/octet-stream]\n",
            "Saving to: ‘title.akas.tsv.gz’\n",
            "\n",
            "title.akas.tsv.gz   100%[===================>] 171.13M  65.9MB/s    in 2.6s    \n",
            "\n",
            "2020-03-16 13:49:00 (65.9 MB/s) - ‘title.akas.tsv.gz’ saved [179448700/179448700]\n",
            "\n",
            "--2020-03-16 13:49:00--  https://datasets.imdbws.com/title.basics.tsv.gz\n",
            "Resolving datasets.imdbws.com (datasets.imdbws.com)... 13.35.118.120, 13.35.118.51, 13.35.118.25, ...\n",
            "Connecting to datasets.imdbws.com (datasets.imdbws.com)|13.35.118.120|:443... connected.\n",
            "HTTP request sent, awaiting response... 200 OK\n",
            "Length: 118085885 (113M) [binary/octet-stream]\n",
            "Saving to: ‘title.basics.tsv.gz’\n",
            "\n",
            "title.basics.tsv.gz 100%[===================>] 112.62M  74.1MB/s    in 1.5s    \n",
            "\n",
            "2020-03-16 13:49:02 (74.1 MB/s) - ‘title.basics.tsv.gz’ saved [118085885/118085885]\n",
            "\n",
            "--2020-03-16 13:49:03--  https://datasets.imdbws.com/title.crew.tsv.gz\n",
            "Resolving datasets.imdbws.com (datasets.imdbws.com)... 13.226.42.43, 13.226.42.50, 13.226.42.104, ...\n",
            "Connecting to datasets.imdbws.com (datasets.imdbws.com)|13.226.42.43|:443... connected.\n",
            "HTTP request sent, awaiting response... 200 OK\n",
            "Length: 47133350 (45M) [binary/octet-stream]\n",
            "Saving to: ‘title.crew.tsv.gz’\n",
            "\n",
            "title.crew.tsv.gz   100%[===================>]  44.95M  66.1MB/s    in 0.7s    \n",
            "\n",
            "2020-03-16 13:49:04 (66.1 MB/s) - ‘title.crew.tsv.gz’ saved [47133350/47133350]\n",
            "\n",
            "--2020-03-16 13:49:05--  https://datasets.imdbws.com/title.principals.tsv.gz\n",
            "Resolving datasets.imdbws.com (datasets.imdbws.com)... 13.226.42.43, 13.226.42.50, 13.226.42.104, ...\n",
            "Connecting to datasets.imdbws.com (datasets.imdbws.com)|13.226.42.43|:443... connected.\n",
            "HTTP request sent, awaiting response... 200 OK\n",
            "Length: 328594197 (313M) [binary/octet-stream]\n",
            "Saving to: ‘title.principals.tsv.gz’\n",
            "\n",
            "title.principals.ts 100%[===================>] 313.37M  61.4MB/s    in 5.1s    \n",
            "\n",
            "2020-03-16 13:49:10 (61.2 MB/s) - ‘title.principals.tsv.gz’ saved [328594197/328594197]\n",
            "\n",
            "--2020-03-16 13:49:11--  https://datasets.imdbws.com/title.ratings.tsv.gz\n",
            "Resolving datasets.imdbws.com (datasets.imdbws.com)... 13.35.118.115, 13.35.118.120, 13.35.118.25, ...\n",
            "Connecting to datasets.imdbws.com (datasets.imdbws.com)|13.35.118.115|:443... connected.\n",
            "HTTP request sent, awaiting response... 200 OK\n",
            "Length: 5118262 (4.9M) [binary/octet-stream]\n",
            "Saving to: ‘title.ratings.tsv.gz’\n",
            "\n",
            "title.ratings.tsv.g 100%[===================>]   4.88M  24.6MB/s    in 0.2s    \n",
            "\n",
            "2020-03-16 13:49:12 (24.6 MB/s) - ‘title.ratings.tsv.gz’ saved [5118262/5118262]\n",
            "\n"
          ],
          "name": "stdout"
        }
      ]
    },
    {
      "cell_type": "code",
      "metadata": {
        "id": "CPeNks3I7Okn",
        "colab_type": "code",
        "colab": {}
      },
      "source": [
        "!rm -rf *.tsv\n",
        "!gzip -d *.gz\n"
      ],
      "execution_count": 0,
      "outputs": []
    },
    {
      "cell_type": "code",
      "metadata": {
        "id": "UT6bPs2I7hTg",
        "colab_type": "code",
        "outputId": "f1c0ec32-bde0-4768-ef6d-9a3e8a85385a",
        "colab": {
          "base_uri": "https://localhost:8080/",
          "height": 227
        }
      },
      "source": [
        "!ls -lah"
      ],
      "execution_count": 0,
      "outputs": [
        {
          "output_type": "stream",
          "text": [
            "total 4.7G\n",
            "drwxr-xr-x 1 root root 4.0K Mar 16 13:50 .\n",
            "drwxr-xr-x 1 root root 4.0K Mar 16 13:44 ..\n",
            "drwxr-xr-x 1 root root 4.0K Mar  3 18:11 .config\n",
            "drwx------ 3 root root 4.0K Mar 16 13:48 drive\n",
            "-rw-r--r-- 1 root root 1.1G Mar 15 13:20 name.basics.tsv\n",
            "drwxr-xr-x 1 root root 4.0K Mar  3 18:11 sample_data\n",
            "-rw-r--r-- 1 root root 995M Mar 15 13:21 title.akas.tsv\n",
            "-rw-r--r-- 1 root root 538M Mar 15 13:21 title.basics.tsv\n",
            "-rw-r--r-- 1 root root 206M Mar 15 13:20 title.crew.tsv\n",
            "-rw-r--r-- 1 root root 2.0G Mar 15 13:21 title.principals.tsv\n",
            "-rw-r--r-- 1 root root  17M Mar 15 13:21 title.ratings.tsv\n"
          ],
          "name": "stdout"
        }
      ]
    },
    {
      "cell_type": "code",
      "metadata": {
        "id": "UwFfzJb-yOKM",
        "colab_type": "code",
        "colab": {}
      },
      "source": [
        "!sed 's/titleId/tconst/g' title.akas.tsv > title.akas-out.tsv"
      ],
      "execution_count": 0,
      "outputs": []
    },
    {
      "cell_type": "code",
      "metadata": {
        "id": "IyzI7sNXalMx",
        "colab_type": "code",
        "colab": {}
      },
      "source": [
        "!mv title.akas-out.tsv title.akas.tsv"
      ],
      "execution_count": 0,
      "outputs": []
    },
    {
      "cell_type": "code",
      "metadata": {
        "id": "_ezhvI1p03Ap",
        "colab_type": "code",
        "outputId": "0b319986-4a29-4e86-dc36-516998630be4",
        "colab": {
          "base_uri": "https://localhost:8080/",
          "height": 1000
        }
      },
      "source": [
        "print(\"title.akas\")\n",
        "!head -n 10 title.akas.tsv\n",
        "print()\n",
        "\n",
        "print(\"title.basics\")\n",
        "!head -n 10 title.basics.tsv\n",
        "print()\n",
        "\n",
        "print(\"title.crew\")\n",
        "!head -n 10 title.crew.tsv\n",
        "print()\n",
        "\n",
        "print(\"title.principals\")\n",
        "!head -n 10 title.principals.tsv\n",
        "print()\n",
        "\n",
        "print(\"title.ratings\")\n",
        "!head -n 10 title.ratings.tsv\n",
        "print()\n",
        "\n",
        "print(\"name.basics\")\n",
        "!head -n 10 name.basics.tsv"
      ],
      "execution_count": 0,
      "outputs": [
        {
          "output_type": "stream",
          "text": [
            "title.akas\n",
            "tconst\tordering\ttitle\tregion\tlanguage\ttypes\tattributes\tisOriginalTitle\n",
            "tt0000001\t1\tCarmencita\tDE\t\\N\t\\N\tliteral title\t0\n",
            "tt0000001\t2\tCarmencita - spanyol tánc\tHU\t\\N\timdbDisplay\t\\N\t0\n",
            "tt0000001\t3\tΚαρμενσίτα\tGR\t\\N\timdbDisplay\t\\N\t0\n",
            "tt0000001\t4\tКарменсита\tRU\t\\N\timdbDisplay\t\\N\t0\n",
            "tt0000001\t5\tCarmencita\tUS\t\\N\t\\N\t\\N\t0\n",
            "tt0000001\t6\tCarmencita\t\\N\t\\N\toriginal\t\\N\t1\n",
            "tt0000001\t7\tカルメンチータ\tJP\tja\timdbDisplay\t\\N\t0\n",
            "tt0000002\t1\tLe clown et ses chiens\t\\N\t\\N\toriginal\t\\N\t1\n",
            "tt0000002\t2\tA bohóc és kutyái\tHU\t\\N\timdbDisplay\t\\N\t0\n",
            "\n",
            "title.basics\n",
            "tconst\ttitleType\tprimaryTitle\toriginalTitle\tisAdult\tstartYear\tendYear\truntimeMinutes\tgenres\n",
            "tt0000001\tshort\tCarmencita\tCarmencita\t0\t1894\t\\N\t1\tDocumentary,Short\n",
            "tt0000002\tshort\tLe clown et ses chiens\tLe clown et ses chiens\t0\t1892\t\\N\t5\tAnimation,Short\n",
            "tt0000003\tshort\tPauvre Pierrot\tPauvre Pierrot\t0\t1892\t\\N\t4\tAnimation,Comedy,Romance\n",
            "tt0000004\tshort\tUn bon bock\tUn bon bock\t0\t1892\t\\N\t12\tAnimation,Short\n",
            "tt0000005\tshort\tBlacksmith Scene\tBlacksmith Scene\t0\t1893\t\\N\t1\tComedy,Short\n",
            "tt0000006\tshort\tChinese Opium Den\tChinese Opium Den\t0\t1894\t\\N\t1\tShort\n",
            "tt0000007\tshort\tCorbett and Courtney Before the Kinetograph\tCorbett and Courtney Before the Kinetograph\t0\t1894\t\\N\t1\tShort,Sport\n",
            "tt0000008\tshort\tEdison Kinetoscopic Record of a Sneeze\tEdison Kinetoscopic Record of a Sneeze\t0\t1894\t\\N\t1\tDocumentary,Short\n",
            "tt0000009\tmovie\tMiss Jerry\tMiss Jerry\t0\t1894\t\\N\t45\tRomance\n",
            "\n",
            "title.crew\n",
            "tconst\tdirectors\twriters\n",
            "tt0000001\tnm0005690\t\\N\n",
            "tt0000002\tnm0721526\t\\N\n",
            "tt0000003\tnm0721526\t\\N\n",
            "tt0000004\tnm0721526\t\\N\n",
            "tt0000005\tnm0005690\t\\N\n",
            "tt0000006\tnm0005690\t\\N\n",
            "tt0000007\tnm0005690,nm0374658\t\\N\n",
            "tt0000008\tnm0005690\t\\N\n",
            "tt0000009\tnm0085156\tnm0085156\n",
            "\n",
            "title.principals\n",
            "tconst\tordering\tnconst\tcategory\tjob\tcharacters\n",
            "tt0000001\t1\tnm1588970\tself\t\\N\t[\"Herself\"]\n",
            "tt0000001\t2\tnm0005690\tdirector\t\\N\t\\N\n",
            "tt0000001\t3\tnm0374658\tcinematographer\tdirector of photography\t\\N\n",
            "tt0000002\t1\tnm0721526\tdirector\t\\N\t\\N\n",
            "tt0000002\t2\tnm1335271\tcomposer\t\\N\t\\N\n",
            "tt0000003\t1\tnm0721526\tdirector\t\\N\t\\N\n",
            "tt0000003\t2\tnm5442194\tproducer\tproducer\t\\N\n",
            "tt0000003\t3\tnm1335271\tcomposer\t\\N\t\\N\n",
            "tt0000003\t4\tnm5442200\teditor\t\\N\t\\N\n",
            "\n",
            "title.ratings\n",
            "tconst\taverageRating\tnumVotes\n",
            "tt0000001\t5.6\t1590\n",
            "tt0000002\t6.1\t192\n",
            "tt0000003\t6.5\t1257\n",
            "tt0000004\t6.2\t119\n",
            "tt0000005\t6.1\t2018\n",
            "tt0000006\t5.2\t110\n",
            "tt0000007\t5.4\t628\n",
            "tt0000008\t5.4\t1732\n",
            "tt0000009\t5.3\t88\n",
            "\n",
            "name.basics\n",
            "nconst\tprimaryName\tbirthYear\tdeathYear\tprimaryProfession\tknownForTitles\n",
            "nm0000001\tFred Astaire\t1899\t1987\tsoundtrack,actor,miscellaneous\ttt0050419,tt0053137,tt0072308,tt0043044\n",
            "nm0000001\tFred Astaire\t1899\t1987\tsoundtrack,actor,miscellaneous\ttt0050419,tt0053137,tt0072308,tt0043044\n",
            "nm0000002\tLauren Bacall\t1924\t2014\tactress,soundtrack\ttt0038355,tt0117057,tt0037382,tt0071877\n",
            "nm0000002\tLauren Bacall\t1924\t2014\tactress,soundtrack\ttt0038355,tt0117057,tt0037382,tt0071877\n",
            "nm0000003\tBrigitte Bardot\t1934\t\\N\tactress,soundtrack,producer\ttt0054452,tt0049189,tt0059956,tt0057345\n",
            "nm0000003\tBrigitte Bardot\t1934\t\\N\tactress,soundtrack,producer\ttt0054452,tt0049189,tt0059956,tt0057345\n",
            "nm0000004\tJohn Belushi\t1949\t1982\tactor,soundtrack,writer\ttt0077975,tt0080455,tt0078723,tt0072562\n",
            "nm0000004\tJohn Belushi\t1949\t1982\tactor,soundtrack,writer\ttt0077975,tt0080455,tt0078723,tt0072562\n",
            "nm0000005\tIngmar Bergman\t1918\t2007\twriter,director,actor\ttt0050976,tt0050986,tt0069467,tt0083922\n"
          ],
          "name": "stdout"
        }
      ]
    },
    {
      "cell_type": "markdown",
      "metadata": {
        "id": "BSzfoOkQm2wP",
        "colab_type": "text"
      },
      "source": [
        "## Import Data"
      ]
    },
    {
      "cell_type": "markdown",
      "metadata": {
        "id": "52w6TaRNbZN7",
        "colab_type": "text"
      },
      "source": [
        "### Features\n",
        "For each title (unique `tconst`,) we are interested in the following features:\n",
        "<!-- - `region` categorical, one per title. -->\n",
        "<!-- - `language` categorical, one per title. -->\n",
        "- `startYear` discrete integer.\n",
        "- `runtimeMinutes` discrete integer.\n",
        "- `genres` categorical, multiple per title.\n",
        "- The average rating of the director/directors.\n",
        "- The average rating of the writer/writers.\n",
        "- The average rating of the top three actors.\n",
        "\n",
        "We want to predict:\n",
        "- `averageRating` continuous between $0$ and $10$.\n"
      ]
    },
    {
      "cell_type": "code",
      "metadata": {
        "id": "mVZCddXA7vx1",
        "colab_type": "code",
        "outputId": "27240348-5049-48f1-8c40-e64c33269bce",
        "colab": {
          "base_uri": "https://localhost:8080/",
          "height": 72
        }
      },
      "source": [
        "import pandas as pd\n",
        "from functools import reduce\n",
        "\n",
        "# Reading TSV files: https://stackoverflow.com/a/34548894\n",
        "datasheets = []\n",
        "\n",
        "# We shall ignore the \\N entries in numerical columns, and keep those columns numerical.\n",
        "title_basics = pd.read_csv(\"title.basics.tsv\", sep='\\t', usecols=[\"tconst\", \"genres\", \"runtimeMinutes\", \"startYear\"])\n",
        "for numerical_column in [\"runtimeMinutes\", \"startYear\"]:\n",
        "  title_basics[numerical_column] = pd.to_numeric(title_basics[numerical_column], errors='coerce')\n",
        "\n",
        "title_ratings = pd.read_csv(\"title.ratings.tsv\", sep='\\t', usecols=[\"tconst\", \"averageRating\", \"numVotes\"])\n",
        "\n",
        "datasheets.append(title_basics)\n",
        "datasheets.append(pd.read_csv(\"title.crew.tsv\", sep='\\t', usecols=[\"tconst\", \"directors\", \"writers\"]))\n",
        "datasheets.append(title_ratings)\n"
      ],
      "execution_count": 0,
      "outputs": [
        {
          "output_type": "stream",
          "text": [
            "/usr/local/lib/python3.6/dist-packages/IPython/core/interactiveshell.py:2718: DtypeWarning: Columns (5) have mixed types. Specify dtype option on import or set low_memory=False.\n",
            "  interactivity=interactivity, compiler=compiler, result=result)\n"
          ],
          "name": "stderr"
        }
      ]
    },
    {
      "cell_type": "markdown",
      "metadata": {
        "id": "Qd5eIeAmknRZ",
        "colab_type": "text"
      },
      "source": [
        "### Merge the movie datasheets"
      ]
    },
    {
      "cell_type": "code",
      "metadata": {
        "colab_type": "code",
        "id": "NQ9piX7Q6QW3",
        "colab": {}
      },
      "source": [
        "title_datasheet = reduce((lambda left, right: pd.merge(left, right, left_on='tconst', right_on='tconst')), datasheets)"
      ],
      "execution_count": 0,
      "outputs": []
    },
    {
      "cell_type": "code",
      "metadata": {
        "id": "3yDFYfvX8rVL",
        "colab_type": "code",
        "outputId": "440ee9af-a3c8-4db6-9e20-77d31a54857c",
        "colab": {
          "base_uri": "https://localhost:8080/",
          "height": 434
        }
      },
      "source": [
        "display(title_datasheet)"
      ],
      "execution_count": 0,
      "outputs": [
        {
          "output_type": "display_data",
          "data": {
            "text/html": [
              "<div>\n",
              "<style scoped>\n",
              "    .dataframe tbody tr th:only-of-type {\n",
              "        vertical-align: middle;\n",
              "    }\n",
              "\n",
              "    .dataframe tbody tr th {\n",
              "        vertical-align: top;\n",
              "    }\n",
              "\n",
              "    .dataframe thead th {\n",
              "        text-align: right;\n",
              "    }\n",
              "</style>\n",
              "<table border=\"1\" class=\"dataframe\">\n",
              "  <thead>\n",
              "    <tr style=\"text-align: right;\">\n",
              "      <th></th>\n",
              "      <th>tconst</th>\n",
              "      <th>startYear</th>\n",
              "      <th>runtimeMinutes</th>\n",
              "      <th>genres</th>\n",
              "      <th>directors</th>\n",
              "      <th>writers</th>\n",
              "      <th>averageRating</th>\n",
              "      <th>numVotes</th>\n",
              "    </tr>\n",
              "  </thead>\n",
              "  <tbody>\n",
              "    <tr>\n",
              "      <th>0</th>\n",
              "      <td>tt0000001</td>\n",
              "      <td>1894.0</td>\n",
              "      <td>1.0</td>\n",
              "      <td>Documentary,Short</td>\n",
              "      <td>nm0005690</td>\n",
              "      <td>\\N</td>\n",
              "      <td>5.6</td>\n",
              "      <td>1590</td>\n",
              "    </tr>\n",
              "    <tr>\n",
              "      <th>1</th>\n",
              "      <td>tt0000002</td>\n",
              "      <td>1892.0</td>\n",
              "      <td>5.0</td>\n",
              "      <td>Animation,Short</td>\n",
              "      <td>nm0721526</td>\n",
              "      <td>\\N</td>\n",
              "      <td>6.1</td>\n",
              "      <td>192</td>\n",
              "    </tr>\n",
              "    <tr>\n",
              "      <th>2</th>\n",
              "      <td>tt0000003</td>\n",
              "      <td>1892.0</td>\n",
              "      <td>4.0</td>\n",
              "      <td>Animation,Comedy,Romance</td>\n",
              "      <td>nm0721526</td>\n",
              "      <td>\\N</td>\n",
              "      <td>6.5</td>\n",
              "      <td>1257</td>\n",
              "    </tr>\n",
              "    <tr>\n",
              "      <th>3</th>\n",
              "      <td>tt0000004</td>\n",
              "      <td>1892.0</td>\n",
              "      <td>12.0</td>\n",
              "      <td>Animation,Short</td>\n",
              "      <td>nm0721526</td>\n",
              "      <td>\\N</td>\n",
              "      <td>6.2</td>\n",
              "      <td>119</td>\n",
              "    </tr>\n",
              "    <tr>\n",
              "      <th>4</th>\n",
              "      <td>tt0000005</td>\n",
              "      <td>1893.0</td>\n",
              "      <td>1.0</td>\n",
              "      <td>Comedy,Short</td>\n",
              "      <td>nm0005690</td>\n",
              "      <td>\\N</td>\n",
              "      <td>6.1</td>\n",
              "      <td>2018</td>\n",
              "    </tr>\n",
              "    <tr>\n",
              "      <th>...</th>\n",
              "      <td>...</td>\n",
              "      <td>...</td>\n",
              "      <td>...</td>\n",
              "      <td>...</td>\n",
              "      <td>...</td>\n",
              "      <td>...</td>\n",
              "      <td>...</td>\n",
              "      <td>...</td>\n",
              "    </tr>\n",
              "    <tr>\n",
              "      <th>1038790</th>\n",
              "      <td>tt9916576</td>\n",
              "      <td>2019.0</td>\n",
              "      <td>85.0</td>\n",
              "      <td>Reality-TV</td>\n",
              "      <td>\\N</td>\n",
              "      <td>\\N</td>\n",
              "      <td>6.4</td>\n",
              "      <td>10</td>\n",
              "    </tr>\n",
              "    <tr>\n",
              "      <th>1038791</th>\n",
              "      <td>tt9916578</td>\n",
              "      <td>2019.0</td>\n",
              "      <td>NaN</td>\n",
              "      <td>Adventure,Biography,Comedy</td>\n",
              "      <td>nm0373673</td>\n",
              "      <td>nm1485603,nm1485604,nm1866876,nm0909144</td>\n",
              "      <td>8.5</td>\n",
              "      <td>16</td>\n",
              "    </tr>\n",
              "    <tr>\n",
              "      <th>1038792</th>\n",
              "      <td>tt9916720</td>\n",
              "      <td>2019.0</td>\n",
              "      <td>10.0</td>\n",
              "      <td>Comedy,Horror,Mystery</td>\n",
              "      <td>nm10538600</td>\n",
              "      <td>\\N</td>\n",
              "      <td>5.5</td>\n",
              "      <td>47</td>\n",
              "    </tr>\n",
              "    <tr>\n",
              "      <th>1038793</th>\n",
              "      <td>tt9916766</td>\n",
              "      <td>2019.0</td>\n",
              "      <td>43.0</td>\n",
              "      <td>Family,Reality-TV</td>\n",
              "      <td>\\N</td>\n",
              "      <td>\\N</td>\n",
              "      <td>6.7</td>\n",
              "      <td>11</td>\n",
              "    </tr>\n",
              "    <tr>\n",
              "      <th>1038794</th>\n",
              "      <td>tt9916778</td>\n",
              "      <td>2019.0</td>\n",
              "      <td>NaN</td>\n",
              "      <td>Drama</td>\n",
              "      <td>\\N</td>\n",
              "      <td>\\N</td>\n",
              "      <td>6.9</td>\n",
              "      <td>18</td>\n",
              "    </tr>\n",
              "  </tbody>\n",
              "</table>\n",
              "<p>1038795 rows × 8 columns</p>\n",
              "</div>"
            ],
            "text/plain": [
              "            tconst  startYear  ...  averageRating numVotes\n",
              "0        tt0000001     1894.0  ...            5.6     1590\n",
              "1        tt0000002     1892.0  ...            6.1      192\n",
              "2        tt0000003     1892.0  ...            6.5     1257\n",
              "3        tt0000004     1892.0  ...            6.2      119\n",
              "4        tt0000005     1893.0  ...            6.1     2018\n",
              "...            ...        ...  ...            ...      ...\n",
              "1038790  tt9916576     2019.0  ...            6.4       10\n",
              "1038791  tt9916578     2019.0  ...            8.5       16\n",
              "1038792  tt9916720     2019.0  ...            5.5       47\n",
              "1038793  tt9916766     2019.0  ...            6.7       11\n",
              "1038794  tt9916778     2019.0  ...            6.9       18\n",
              "\n",
              "[1038795 rows x 8 columns]"
            ]
          },
          "metadata": {
            "tags": []
          }
        }
      ]
    },
    {
      "cell_type": "markdown",
      "metadata": {
        "id": "BZRodCc_ry1p",
        "colab_type": "text"
      },
      "source": [
        "### Merge the name datasheet by rows\n",
        "Each `tconst` (title) appears multiple times in the `title.principals` datasheet. We *merge* these rows by concatnating the corresponding `nconst` strings (separate each entry with a comma.) We call the output dataframe `principals_merged`."
      ]
    },
    {
      "cell_type": "code",
      "metadata": {
        "id": "RxlClyPEsXe_",
        "colab_type": "code",
        "outputId": "00d6ec1e-7c34-4680-cf2c-976638018028",
        "colab": {
          "base_uri": "https://localhost:8080/",
          "height": 34
        }
      },
      "source": [
        "def concatnate(strings):\n",
        "  output = str()\n",
        "  for string in strings:\n",
        "    output += string + \",\"\n",
        "  \n",
        "  return output\n",
        "\n",
        "principals = pd.read_csv(\"title.principals.tsv\", sep='\\t', usecols=['tconst', 'nconst'])\n",
        "print(\"Successfully loaded {} princpal entry/entries.\".format(len(principals) + 1))\n",
        "principals_merged = principals.groupby('tconst').agg(concatnate)\n",
        "principals_merged = principals_merged.rename(columns={\"nconst\": \"principals\"})"
      ],
      "execution_count": 0,
      "outputs": [
        {
          "output_type": "stream",
          "text": [
            "Successfully loaded 46675738 princpal entry/entries.\n"
          ],
          "name": "stdout"
        }
      ]
    },
    {
      "cell_type": "code",
      "metadata": {
        "id": "_QKt3nOOxa1M",
        "colab_type": "code",
        "outputId": "b2a14ee0-5147-432d-8167-7082d3cb9723",
        "colab": {
          "base_uri": "https://localhost:8080/",
          "height": 444
        }
      },
      "source": [
        "display(principals_merged)"
      ],
      "execution_count": 0,
      "outputs": [
        {
          "output_type": "display_data",
          "data": {
            "text/html": [
              "<div>\n",
              "<style scoped>\n",
              "    .dataframe tbody tr th:only-of-type {\n",
              "        vertical-align: middle;\n",
              "    }\n",
              "\n",
              "    .dataframe tbody tr th {\n",
              "        vertical-align: top;\n",
              "    }\n",
              "\n",
              "    .dataframe thead th {\n",
              "        text-align: right;\n",
              "    }\n",
              "</style>\n",
              "<table border=\"1\" class=\"dataframe\">\n",
              "  <thead>\n",
              "    <tr style=\"text-align: right;\">\n",
              "      <th></th>\n",
              "      <th>principals</th>\n",
              "    </tr>\n",
              "    <tr>\n",
              "      <th>tconst</th>\n",
              "      <th></th>\n",
              "    </tr>\n",
              "  </thead>\n",
              "  <tbody>\n",
              "    <tr>\n",
              "      <th>tt0000001</th>\n",
              "      <td>nm1588970,nm0005690,nm0374658,</td>\n",
              "    </tr>\n",
              "    <tr>\n",
              "      <th>tt0000002</th>\n",
              "      <td>nm0721526,nm1335271,</td>\n",
              "    </tr>\n",
              "    <tr>\n",
              "      <th>tt0000003</th>\n",
              "      <td>nm0721526,nm5442194,nm1335271,nm5442200,</td>\n",
              "    </tr>\n",
              "    <tr>\n",
              "      <th>tt0000004</th>\n",
              "      <td>nm0721526,nm1335271,</td>\n",
              "    </tr>\n",
              "    <tr>\n",
              "      <th>tt0000005</th>\n",
              "      <td>nm0443482,nm0443482,nm0653042,nm0653042,nm0005...</td>\n",
              "    </tr>\n",
              "    <tr>\n",
              "      <th>...</th>\n",
              "      <td>...</td>\n",
              "    </tr>\n",
              "    <tr>\n",
              "      <th>tt9916848</th>\n",
              "      <td>nm2900202,nm5519557,nm8825009,nm5262613,nm8690...</td>\n",
              "    </tr>\n",
              "    <tr>\n",
              "      <th>tt9916850</th>\n",
              "      <td>nm2900202,nm5519557,nm8825009,nm5262613,nm8690...</td>\n",
              "    </tr>\n",
              "    <tr>\n",
              "      <th>tt9916852</th>\n",
              "      <td>nm2900202,nm2900202,nm5519557,nm5519557,nm8825...</td>\n",
              "    </tr>\n",
              "    <tr>\n",
              "      <th>tt9916856</th>\n",
              "      <td>nm3394271,nm10538650,nm10538646,nm10538647,nm1...</td>\n",
              "    </tr>\n",
              "    <tr>\n",
              "      <th>tt9916880</th>\n",
              "      <td>nm1469295,nm1483166,nm0254176,nm0286175,nm1052...</td>\n",
              "    </tr>\n",
              "  </tbody>\n",
              "</table>\n",
              "<p>6002575 rows × 1 columns</p>\n",
              "</div>"
            ],
            "text/plain": [
              "                                                  principals\n",
              "tconst                                                      \n",
              "tt0000001                     nm1588970,nm0005690,nm0374658,\n",
              "tt0000002                               nm0721526,nm1335271,\n",
              "tt0000003           nm0721526,nm5442194,nm1335271,nm5442200,\n",
              "tt0000004                               nm0721526,nm1335271,\n",
              "tt0000005  nm0443482,nm0443482,nm0653042,nm0653042,nm0005...\n",
              "...                                                      ...\n",
              "tt9916848  nm2900202,nm5519557,nm8825009,nm5262613,nm8690...\n",
              "tt9916850  nm2900202,nm5519557,nm8825009,nm5262613,nm8690...\n",
              "tt9916852  nm2900202,nm2900202,nm5519557,nm5519557,nm8825...\n",
              "tt9916856  nm3394271,nm10538650,nm10538646,nm10538647,nm1...\n",
              "tt9916880  nm1469295,nm1483166,nm0254176,nm0286175,nm1052...\n",
              "\n",
              "[6002575 rows x 1 columns]"
            ]
          },
          "metadata": {
            "tags": []
          }
        }
      ]
    },
    {
      "cell_type": "code",
      "metadata": {
        "id": "-T5eM3QX59JN",
        "colab_type": "code",
        "colab": {}
      },
      "source": [
        "title_datasheet = pd.merge(title_datasheet, principals_merged, left_on='tconst', right_on='tconst')"
      ],
      "execution_count": 0,
      "outputs": []
    },
    {
      "cell_type": "markdown",
      "metadata": {
        "id": "Xj0Vs8gNm6Vt",
        "colab_type": "text"
      },
      "source": [
        "## Dim-reduce Names"
      ]
    },
    {
      "cell_type": "markdown",
      "metadata": {
        "id": "pSa_eWcChx5q",
        "colab_type": "text"
      },
      "source": [
        "### Average Rating for Names\n"
      ]
    },
    {
      "cell_type": "markdown",
      "metadata": {
        "id": "IlynucbszBPI",
        "colab_type": "text"
      },
      "source": [
        "Create a dictionary `title_rating_dictionary` of $\\verb!tconst! \\to (\\verb!averageRating! \\ast \\verb!numVotes!)$"
      ]
    },
    {
      "cell_type": "code",
      "metadata": {
        "id": "CTrNngJKhgW2",
        "colab_type": "code",
        "colab": {}
      },
      "source": [
        "title_rating_dictionary = dict(zip(title_ratings[\"tconst\"], zip(title_ratings[\"averageRating\"], title_ratings[\"numVotes\"])))"
      ],
      "execution_count": 0,
      "outputs": []
    },
    {
      "cell_type": "markdown",
      "metadata": {
        "id": "HTyIUISzlFpo",
        "colab_type": "text"
      },
      "source": [
        "Each `name` is known for a list of titles, where they might either be an actor or a directory. \n",
        "\n",
        "We calculate the average rating for each `name` and weigh the rating using the number of votes."
      ]
    },
    {
      "cell_type": "code",
      "metadata": {
        "id": "28OSpCxiygNG",
        "colab_type": "code",
        "outputId": "f984f6e3-a350-4269-ac50-e84ce7059940",
        "colab": {
          "base_uri": "https://localhost:8080/",
          "height": 52
        }
      },
      "source": [
        "# Preprocess actors\n",
        "def calculate_average(titles):\n",
        "  if titles == \"\\\\N\":\n",
        "    return 0\n",
        "  else:\n",
        "    titles = titles.split(\",\")\n",
        "    num_titles = len(titles)\n",
        "    title_array = np.zeros((num_titles, 2))\n",
        "    for i in range(num_titles):\n",
        "      if titles[i][0] == \"\\\\N\":\n",
        "        continue\n",
        "      \n",
        "      if titles[i] not in title_rating_dictionary.keys():\n",
        "        continue\n",
        "\n",
        "      title_array[i,:] = title_rating_dictionary[titles[i]]\n",
        "    \n",
        "    if np.sum(title_array[:,1]) == 0:\n",
        "      return 0\n",
        "    \n",
        "    else:\n",
        "      return np.average(title_array[:,0], weights=title_array[:,1])\n",
        "\n",
        "names = pd.read_csv(\"name.basics.tsv\", sep='\\t', usecols=[\"nconst\", \"knownForTitles\"])\n",
        "print(\"Successfully loaded {} name(s).\".format(len(names) - 1))\n",
        "\n",
        "names[\"averageRatings\"] = names[\"knownForTitles\"].apply(calculate_average)\n",
        "\n",
        "# Discard any actor with a rating of zero (i.e., no data.)\n",
        "names = names[names[\"averageRatings\"] != 0]\n",
        "print(\"Successfully generated an averageRatings dataset with {} valid entry/entries.\".format(len(names) + 1))"
      ],
      "execution_count": 0,
      "outputs": [
        {
          "output_type": "stream",
          "text": [
            "Successfully loaded 18519183 name(s).\n",
            "Successfully generated an averageRatings dataset with 10669322 valid entry/entries.\n"
          ],
          "name": "stdout"
        }
      ]
    },
    {
      "cell_type": "markdown",
      "metadata": {
        "id": "Cp-k2ck6nXoE",
        "colab_type": "text"
      },
      "source": [
        "### Avg. Rating for Actors/Crews in a title\n",
        "Create a dictionary `name_rating_dictionary` of $\\verb!nconst! \\to \\verb!averageRatings!$"
      ]
    },
    {
      "cell_type": "code",
      "metadata": {
        "id": "OcjlsIldmXaK",
        "colab_type": "code",
        "colab": {}
      },
      "source": [
        "name_rating_dictionary = dict(zip(names[\"nconst\"], names[\"averageRatings\"]))"
      ],
      "execution_count": 0,
      "outputs": []
    },
    {
      "cell_type": "markdown",
      "metadata": {
        "id": "1ze4cOK3nwgZ",
        "colab_type": "text"
      },
      "source": [
        "For each title, we lookup/calculate the following:\n",
        "- `averageRating` of the director. \n",
        "  - If there is no director, discard this title.\n",
        "  - If there are multiple directors, take the average of their `averageRating` values.\n",
        "  - If none of the directors have an `averageRating` value, discard this title.\n",
        "\n",
        "- `averageRating` of the writer. \n",
        "  - If there is no writer, or if the `averageRating` value of the writer is not available, use the `averageRating` of the director/directors instead.\n",
        "\n",
        "- `averageRating` of the first three actors, one for each actor. \n",
        "  - If there is no actor information for this title, use the value for the director/directors instead.\n",
        "  - If there are fewer than three actors, use the average for the first actors (or first actor and second actor) instead."
      ]
    },
    {
      "cell_type": "markdown",
      "metadata": {
        "id": "ic4BsxqOyKjk",
        "colab_type": "text"
      },
      "source": [
        "The `lookup_calculate_names_in_title` function takes in three comma-separated strings, one for directors, one for writers"
      ]
    },
    {
      "cell_type": "code",
      "metadata": {
        "colab_type": "code",
        "id": "NJncw-upxTF0",
        "colab": {}
      },
      "source": [
        "def lookup_calculate_names_in_title(directors, writers, principals):\n",
        "  directors = directors.split(\",\")\n",
        "  writers = writers.split(\",\")\n",
        "  principals = principals.split(\",\")\n",
        "\n",
        "  director_ratings = list()\n",
        "  for director in directors:\n",
        "    if director in name_rating_dictionary.keys():\n",
        "      director_ratings.append(name_rating_dictionary[director])\n",
        "\n",
        "  # Directors\n",
        "  # We shall discard this title if there is no directors.\n",
        "  # In case that none of the directors has rating information, we shall also discard this title.\n",
        "  if len(director_ratings) == 0:\n",
        "    return (0, 0, 0)\n",
        "  else:\n",
        "    director_average_rating = np.average(director_ratings)\n",
        "\n",
        "  # Writers\n",
        "  # If writer information is not available, we shall take the average for the director/directors as a placeholder.\n",
        "  writer_ratings = list()\n",
        "  for writer in writers:\n",
        "    if writer in name_rating_dictionary.keys():\n",
        "      writer_ratings.append(name_rating_dictionary[writer])\n",
        "\n",
        "  if len(writer_ratings) == 0:\n",
        "    writer_average_rating = director_average_rating\n",
        "  else:\n",
        "    writer_average_rating = np.average(writer_ratings)\n",
        "\n",
        "  # Principals\n",
        "  # If principal information is not available, we shall take the average for the director/directors as a placeholder.\n",
        "  principal_ratings = list()\n",
        "  for principal in principals:\n",
        "    if principal in name_rating_dictionary.keys():\n",
        "      principal_ratings.append(name_rating_dictionary[principal])\n",
        "\n",
        "  if len(principal_ratings) == 0:\n",
        "    principal_average_rating = director_average_rating\n",
        "  else:\n",
        "    principal_average_rating = np.average(principal_ratings)\n",
        "    \n",
        "  return (director_average_rating, writer_average_rating, principal_average_rating)\n",
        "\n",
        "\n",
        "averages = \\\n",
        "  title_datasheet.apply(lambda row: \n",
        "                        lookup_calculate_names_in_title(str(row[\"directors\"]), str(row[\"writers\"]), str(row[\"principals\"])), \n",
        "                        axis=1, result_type='expand')\n",
        "\n",
        "title_datasheet[\"directorAverage\"], title_datasheet[\"writerAverage\"], title_datasheet['principalAverage'] \\\n",
        "  = averages[0], averages[1], averages[2]"
      ],
      "execution_count": 0,
      "outputs": []
    },
    {
      "cell_type": "code",
      "metadata": {
        "id": "Gg1zChMDhIkK",
        "colab_type": "code",
        "outputId": "f6b49758-3842-4481-d747-559e907ea730",
        "colab": {
          "base_uri": "https://localhost:8080/",
          "height": 227
        }
      },
      "source": [
        "display(averages[0])"
      ],
      "execution_count": 0,
      "outputs": [
        {
          "output_type": "display_data",
          "data": {
            "text/plain": [
              "0          5.606510\n",
              "1          6.419985\n",
              "2          6.419985\n",
              "3          6.419985\n",
              "4          5.606510\n",
              "             ...   \n",
              "1023081    6.622179\n",
              "1023082    0.000000\n",
              "1023083    6.834996\n",
              "1023084    3.971053\n",
              "1023085    0.000000\n",
              "Name: 0, Length: 1023086, dtype: float64"
            ]
          },
          "metadata": {
            "tags": []
          }
        }
      ]
    },
    {
      "cell_type": "code",
      "metadata": {
        "id": "jSA8Sd-T9GQq",
        "colab_type": "code",
        "outputId": "a334db7a-58a1-4c11-fcd0-56c9eb10dfaa",
        "colab": {
          "base_uri": "https://localhost:8080/",
          "height": 434
        }
      },
      "source": [
        "display(title_datasheet)"
      ],
      "execution_count": 0,
      "outputs": [
        {
          "output_type": "display_data",
          "data": {
            "text/html": [
              "<div>\n",
              "<style scoped>\n",
              "    .dataframe tbody tr th:only-of-type {\n",
              "        vertical-align: middle;\n",
              "    }\n",
              "\n",
              "    .dataframe tbody tr th {\n",
              "        vertical-align: top;\n",
              "    }\n",
              "\n",
              "    .dataframe thead th {\n",
              "        text-align: right;\n",
              "    }\n",
              "</style>\n",
              "<table border=\"1\" class=\"dataframe\">\n",
              "  <thead>\n",
              "    <tr style=\"text-align: right;\">\n",
              "      <th></th>\n",
              "      <th>tconst</th>\n",
              "      <th>startYear</th>\n",
              "      <th>runtimeMinutes</th>\n",
              "      <th>genres</th>\n",
              "      <th>directors</th>\n",
              "      <th>writers</th>\n",
              "      <th>averageRating</th>\n",
              "      <th>numVotes</th>\n",
              "      <th>principals</th>\n",
              "      <th>directorAverage</th>\n",
              "      <th>writerAverage</th>\n",
              "      <th>principalAverage</th>\n",
              "    </tr>\n",
              "  </thead>\n",
              "  <tbody>\n",
              "    <tr>\n",
              "      <th>0</th>\n",
              "      <td>tt0000001</td>\n",
              "      <td>1894.0</td>\n",
              "      <td>1.0</td>\n",
              "      <td>Documentary,Short</td>\n",
              "      <td>nm0005690</td>\n",
              "      <td>\\N</td>\n",
              "      <td>5.6</td>\n",
              "      <td>1590</td>\n",
              "      <td>nm1588970,nm0005690,nm0374658,</td>\n",
              "      <td>5.606510</td>\n",
              "      <td>5.606510</td>\n",
              "      <td>5.267911</td>\n",
              "    </tr>\n",
              "    <tr>\n",
              "      <th>1</th>\n",
              "      <td>tt0000002</td>\n",
              "      <td>1892.0</td>\n",
              "      <td>5.0</td>\n",
              "      <td>Animation,Short</td>\n",
              "      <td>nm0721526</td>\n",
              "      <td>\\N</td>\n",
              "      <td>6.1</td>\n",
              "      <td>192</td>\n",
              "      <td>nm0721526,nm1335271,</td>\n",
              "      <td>6.419985</td>\n",
              "      <td>6.419985</td>\n",
              "      <td>6.421509</td>\n",
              "    </tr>\n",
              "    <tr>\n",
              "      <th>2</th>\n",
              "      <td>tt0000003</td>\n",
              "      <td>1892.0</td>\n",
              "      <td>4.0</td>\n",
              "      <td>Animation,Comedy,Romance</td>\n",
              "      <td>nm0721526</td>\n",
              "      <td>\\N</td>\n",
              "      <td>6.5</td>\n",
              "      <td>1257</td>\n",
              "      <td>nm0721526,nm5442194,nm1335271,nm5442200,</td>\n",
              "      <td>6.419985</td>\n",
              "      <td>6.419985</td>\n",
              "      <td>6.460755</td>\n",
              "    </tr>\n",
              "    <tr>\n",
              "      <th>3</th>\n",
              "      <td>tt0000004</td>\n",
              "      <td>1892.0</td>\n",
              "      <td>12.0</td>\n",
              "      <td>Animation,Short</td>\n",
              "      <td>nm0721526</td>\n",
              "      <td>\\N</td>\n",
              "      <td>6.2</td>\n",
              "      <td>119</td>\n",
              "      <td>nm0721526,nm1335271,</td>\n",
              "      <td>6.419985</td>\n",
              "      <td>6.419985</td>\n",
              "      <td>6.421509</td>\n",
              "    </tr>\n",
              "    <tr>\n",
              "      <th>4</th>\n",
              "      <td>tt0000005</td>\n",
              "      <td>1893.0</td>\n",
              "      <td>1.0</td>\n",
              "      <td>Comedy,Short</td>\n",
              "      <td>nm0005690</td>\n",
              "      <td>\\N</td>\n",
              "      <td>6.1</td>\n",
              "      <td>2018</td>\n",
              "      <td>nm0443482,nm0443482,nm0653042,nm0653042,nm0005...</td>\n",
              "      <td>5.606510</td>\n",
              "      <td>5.606510</td>\n",
              "      <td>5.365407</td>\n",
              "    </tr>\n",
              "    <tr>\n",
              "      <th>...</th>\n",
              "      <td>...</td>\n",
              "      <td>...</td>\n",
              "      <td>...</td>\n",
              "      <td>...</td>\n",
              "      <td>...</td>\n",
              "      <td>...</td>\n",
              "      <td>...</td>\n",
              "      <td>...</td>\n",
              "      <td>...</td>\n",
              "      <td>...</td>\n",
              "      <td>...</td>\n",
              "      <td>...</td>\n",
              "    </tr>\n",
              "    <tr>\n",
              "      <th>1023081</th>\n",
              "      <td>tt9916544</td>\n",
              "      <td>2019.0</td>\n",
              "      <td>12.0</td>\n",
              "      <td>Drama,Short</td>\n",
              "      <td>nm3219235</td>\n",
              "      <td>nm3219235</td>\n",
              "      <td>7.2</td>\n",
              "      <td>15</td>\n",
              "      <td>nm9424215,nm9873304,nm7395788,nm7571612,nm3219...</td>\n",
              "      <td>6.622179</td>\n",
              "      <td>6.622179</td>\n",
              "      <td>6.427478</td>\n",
              "    </tr>\n",
              "    <tr>\n",
              "      <th>1023082</th>\n",
              "      <td>tt9916576</td>\n",
              "      <td>2019.0</td>\n",
              "      <td>85.0</td>\n",
              "      <td>Reality-TV</td>\n",
              "      <td>\\N</td>\n",
              "      <td>\\N</td>\n",
              "      <td>6.4</td>\n",
              "      <td>10</td>\n",
              "      <td>nm3939894,nm3282613,nm1700240,nm2277838,nm2353...</td>\n",
              "      <td>0.000000</td>\n",
              "      <td>0.000000</td>\n",
              "      <td>0.000000</td>\n",
              "    </tr>\n",
              "    <tr>\n",
              "      <th>1023083</th>\n",
              "      <td>tt9916578</td>\n",
              "      <td>2019.0</td>\n",
              "      <td>NaN</td>\n",
              "      <td>Adventure,Biography,Comedy</td>\n",
              "      <td>nm0373673</td>\n",
              "      <td>nm1485603,nm1485604,nm1866876,nm0909144</td>\n",
              "      <td>8.5</td>\n",
              "      <td>16</td>\n",
              "      <td>nm1876061,nm0104787,nm0006522,nm0358200,nm0372...</td>\n",
              "      <td>6.834996</td>\n",
              "      <td>6.179873</td>\n",
              "      <td>6.932343</td>\n",
              "    </tr>\n",
              "    <tr>\n",
              "      <th>1023084</th>\n",
              "      <td>tt9916720</td>\n",
              "      <td>2019.0</td>\n",
              "      <td>10.0</td>\n",
              "      <td>Comedy,Horror,Mystery</td>\n",
              "      <td>nm10538600</td>\n",
              "      <td>\\N</td>\n",
              "      <td>5.5</td>\n",
              "      <td>47</td>\n",
              "      <td>nm10678584,nm10538601,nm10538600,nm10538603,nm...</td>\n",
              "      <td>3.971053</td>\n",
              "      <td>3.971053</td>\n",
              "      <td>5.653593</td>\n",
              "    </tr>\n",
              "    <tr>\n",
              "      <th>1023085</th>\n",
              "      <td>tt9916766</td>\n",
              "      <td>2019.0</td>\n",
              "      <td>43.0</td>\n",
              "      <td>Family,Reality-TV</td>\n",
              "      <td>\\N</td>\n",
              "      <td>\\N</td>\n",
              "      <td>6.7</td>\n",
              "      <td>11</td>\n",
              "      <td>nm2891968,nm2891968,nm1871303,nm1871303,nm1171...</td>\n",
              "      <td>0.000000</td>\n",
              "      <td>0.000000</td>\n",
              "      <td>0.000000</td>\n",
              "    </tr>\n",
              "  </tbody>\n",
              "</table>\n",
              "<p>1023086 rows × 12 columns</p>\n",
              "</div>"
            ],
            "text/plain": [
              "            tconst  startYear  ...  writerAverage principalAverage\n",
              "0        tt0000001     1894.0  ...       5.606510         5.267911\n",
              "1        tt0000002     1892.0  ...       6.419985         6.421509\n",
              "2        tt0000003     1892.0  ...       6.419985         6.460755\n",
              "3        tt0000004     1892.0  ...       6.419985         6.421509\n",
              "4        tt0000005     1893.0  ...       5.606510         5.365407\n",
              "...            ...        ...  ...            ...              ...\n",
              "1023081  tt9916544     2019.0  ...       6.622179         6.427478\n",
              "1023082  tt9916576     2019.0  ...       0.000000         0.000000\n",
              "1023083  tt9916578     2019.0  ...       6.179873         6.932343\n",
              "1023084  tt9916720     2019.0  ...       3.971053         5.653593\n",
              "1023085  tt9916766     2019.0  ...       0.000000         0.000000\n",
              "\n",
              "[1023086 rows x 12 columns]"
            ]
          },
          "metadata": {
            "tags": []
          }
        }
      ]
    },
    {
      "cell_type": "code",
      "metadata": {
        "id": "96Y_ChCljjlH",
        "colab_type": "code",
        "outputId": "270ec93a-4fab-4e1f-fa05-cc2fd832d930",
        "colab": {
          "base_uri": "https://localhost:8080/",
          "height": 34
        }
      },
      "source": [
        "from google.colab import drive\n",
        "drive.mount('/content/drive')"
      ],
      "execution_count": 0,
      "outputs": [
        {
          "output_type": "stream",
          "text": [
            "Drive already mounted at /content/drive; to attempt to forcibly remount, call drive.mount(\"/content/drive\", force_remount=True).\n"
          ],
          "name": "stdout"
        }
      ]
    },
    {
      "cell_type": "code",
      "metadata": {
        "id": "i0a7ezowj9cM",
        "colab_type": "code",
        "colab": {}
      },
      "source": [
        "!ls -l /content/drive/'My Drive'/'Colab Notebooks'/Dataset"
      ],
      "execution_count": 0,
      "outputs": []
    },
    {
      "cell_type": "code",
      "metadata": {
        "id": "afaj5FVRh-Yh",
        "colab_type": "code",
        "colab": {}
      },
      "source": [
        "title_datasheet.to_pickle(\"/content/drive/My Drive/Colab Notebooks/Dataset/2020-03-16-titles-with-ratings.pkl\")"
      ],
      "execution_count": 0,
      "outputs": []
    },
    {
      "cell_type": "code",
      "metadata": {
        "id": "d_1khCd6k69s",
        "colab_type": "code",
        "colab": {}
      },
      "source": [
        ""
      ],
      "execution_count": 0,
      "outputs": []
    }
  ]
}