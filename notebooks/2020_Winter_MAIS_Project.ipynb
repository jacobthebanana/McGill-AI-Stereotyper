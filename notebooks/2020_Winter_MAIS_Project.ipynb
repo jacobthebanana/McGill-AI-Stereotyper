{
  "nbformat": 4,
  "nbformat_minor": 0,
  "metadata": {
    "colab": {
      "name": "2020-Winter-MAIS-Project.ipynb",
      "provenance": [],
      "machine_shape": "hm"
    },
    "kernelspec": {
      "name": "python3",
      "display_name": "Python 3"
    }
  },
  "cells": [
    {
      "cell_type": "code",
      "metadata": {
        "id": "ZLK9bfzvCr8U",
        "colab_type": "code",
        "colab": {}
      },
      "source": [
        "from functools import reduce\n",
        "import numpy as np"
      ],
      "execution_count": 0,
      "outputs": []
    },
    {
      "cell_type": "code",
      "metadata": {
        "id": "dBRwwm072y1w",
        "colab_type": "code",
        "outputId": "fd251cf2-9f55-4671-d69f-e3ea6b60b317",
        "colab": {
          "base_uri": "https://localhost:8080/",
          "height": 1000
        }
      },
      "source": [
        "!wget https://datasets.imdbws.com/name.basics.tsv.gz\n",
        "!wget https://datasets.imdbws.com/title.akas.tsv.gz\n",
        "!wget https://datasets.imdbws.com/title.basics.tsv.gz\n",
        "!wget https://datasets.imdbws.com/title.crew.tsv.gz\n",
        "!wget https://datasets.imdbws.com/title.principals.tsv.gz\n",
        "!wget https://datasets.imdbws.com/title.ratings.tsv.gz\n",
        "\n"
      ],
      "execution_count": 0,
      "outputs": [
        {
          "output_type": "stream",
          "text": [
            "--2020-02-10 23:52:28--  https://datasets.imdbws.com/name.basics.tsv.gz\n",
            "Resolving datasets.imdbws.com (datasets.imdbws.com)... 13.32.85.38, 13.32.85.88, 13.32.85.11, ...\n",
            "Connecting to datasets.imdbws.com (datasets.imdbws.com)|13.32.85.38|:443... connected.\n",
            "HTTP request sent, awaiting response... 200 OK\n",
            "Length: 192494986 (184M) [binary/octet-stream]\n",
            "Saving to: ‘name.basics.tsv.gz’\n",
            "\n",
            "name.basics.tsv.gz  100%[===================>] 183.58M  13.1MB/s    in 11s     \n",
            "\n",
            "2020-02-10 23:52:39 (17.0 MB/s) - ‘name.basics.tsv.gz’ saved [192494986/192494986]\n",
            "\n",
            "--2020-02-10 23:52:40--  https://datasets.imdbws.com/title.akas.tsv.gz\n",
            "Resolving datasets.imdbws.com (datasets.imdbws.com)... 13.32.85.38, 13.32.85.88, 13.32.85.11, ...\n",
            "Connecting to datasets.imdbws.com (datasets.imdbws.com)|13.32.85.38|:443... connected.\n",
            "HTTP request sent, awaiting response... 200 OK\n",
            "Length: 176032136 (168M) [binary/octet-stream]\n",
            "Saving to: ‘title.akas.tsv.gz’\n",
            "\n",
            "title.akas.tsv.gz   100%[===================>] 167.88M  17.0MB/s    in 8.8s    \n",
            "\n",
            "2020-02-10 23:52:49 (19.1 MB/s) - ‘title.akas.tsv.gz’ saved [176032136/176032136]\n",
            "\n",
            "--2020-02-10 23:52:49--  https://datasets.imdbws.com/title.basics.tsv.gz\n",
            "Resolving datasets.imdbws.com (datasets.imdbws.com)... 13.32.85.38, 13.32.85.88, 13.32.85.11, ...\n",
            "Connecting to datasets.imdbws.com (datasets.imdbws.com)|13.32.85.38|:443... connected.\n",
            "HTTP request sent, awaiting response... 200 OK\n",
            "Length: 116393135 (111M) [binary/octet-stream]\n",
            "Saving to: ‘title.basics.tsv.gz’\n",
            "\n",
            "title.basics.tsv.gz 100%[===================>] 111.00M  19.7MB/s    in 6.3s    \n",
            "\n",
            "2020-02-10 23:52:56 (17.7 MB/s) - ‘title.basics.tsv.gz’ saved [116393135/116393135]\n",
            "\n",
            "--2020-02-10 23:52:57--  https://datasets.imdbws.com/title.crew.tsv.gz\n",
            "Resolving datasets.imdbws.com (datasets.imdbws.com)... 13.32.85.38, 13.32.85.88, 13.32.85.11, ...\n",
            "Connecting to datasets.imdbws.com (datasets.imdbws.com)|13.32.85.38|:443... connected.\n",
            "HTTP request sent, awaiting response... 200 OK\n",
            "Length: 46545668 (44M) [binary/octet-stream]\n",
            "Saving to: ‘title.crew.tsv.gz’\n",
            "\n",
            "title.crew.tsv.gz   100%[===================>]  44.39M  15.5MB/s    in 2.9s    \n",
            "\n",
            "2020-02-10 23:53:00 (15.5 MB/s) - ‘title.crew.tsv.gz’ saved [46545668/46545668]\n",
            "\n",
            "--2020-02-10 23:53:00--  https://datasets.imdbws.com/title.principals.tsv.gz\n",
            "Resolving datasets.imdbws.com (datasets.imdbws.com)... 13.32.85.38, 13.32.85.88, 13.32.85.11, ...\n",
            "Connecting to datasets.imdbws.com (datasets.imdbws.com)|13.32.85.38|:443... connected.\n",
            "HTTP request sent, awaiting response... 200 OK\n",
            "Length: 312640924 (298M) [binary/octet-stream]\n",
            "Saving to: ‘title.principals.tsv.gz’\n",
            "\n",
            "title.principals.ts 100%[===================>] 298.16M  13.6MB/s    in 17s     \n",
            "\n",
            "2020-02-10 23:53:18 (17.1 MB/s) - ‘title.principals.tsv.gz’ saved [312640924/312640924]\n",
            "\n",
            "--2020-02-10 23:53:19--  https://datasets.imdbws.com/title.ratings.tsv.gz\n",
            "Resolving datasets.imdbws.com (datasets.imdbws.com)... 13.32.85.38, 13.32.85.88, 13.32.85.11, ...\n",
            "Connecting to datasets.imdbws.com (datasets.imdbws.com)|13.32.85.38|:443... connected.\n",
            "HTTP request sent, awaiting response... 200 OK\n",
            "Length: 5049594 (4.8M) [binary/octet-stream]\n",
            "Saving to: ‘title.ratings.tsv.gz’\n",
            "\n",
            "title.ratings.tsv.g 100%[===================>]   4.82M  19.0MB/s    in 0.3s    \n",
            "\n",
            "2020-02-10 23:53:19 (19.0 MB/s) - ‘title.ratings.tsv.gz’ saved [5049594/5049594]\n",
            "\n"
          ],
          "name": "stdout"
        }
      ]
    },
    {
      "cell_type": "code",
      "metadata": {
        "id": "CPeNks3I7Okn",
        "colab_type": "code",
        "colab": {}
      },
      "source": [
        "!rm -rf *.tsv *.gz.*\n",
        "!gzip -d *.gz\n",
        "# !sed 's/tconst/titleId/g' title.akas.tsv > title.akas.tsv"
      ],
      "execution_count": 0,
      "outputs": []
    },
    {
      "cell_type": "code",
      "metadata": {
        "id": "UT6bPs2I7hTg",
        "colab_type": "code",
        "outputId": "20e201da-798e-405f-9275-9c466db5f9bc",
        "colab": {
          "base_uri": "https://localhost:8080/",
          "height": 204
        }
      },
      "source": [
        "!ls -lah"
      ],
      "execution_count": 0,
      "outputs": [
        {
          "output_type": "stream",
          "text": [
            "total 3.8G\n",
            "drwxr-xr-x 1 root root 4.0K Feb 10 23:54 .\n",
            "drwxr-xr-x 1 root root 4.0K Feb 10 21:01 ..\n",
            "drwxr-xr-x 1 root root 4.0K Feb  7 17:12 .config\n",
            "-rw-r--r-- 1 root root 563M Feb 10 13:17 name.basics.tsv\n",
            "drwxr-xr-x 1 root root 4.0K Feb  5 18:37 sample_data\n",
            "-rw-r--r-- 1 root root 975M Feb  9 13:19 title.akas.tsv\n",
            "-rw-r--r-- 1 root root 530M Feb 10 13:17 title.basics.tsv\n",
            "-rw-r--r-- 1 root root 203M Feb 10 13:17 title.crew.tsv\n",
            "-rw-r--r-- 1 root root 1.6G Feb 10 13:17 title.principals.tsv\n",
            "-rw-r--r-- 1 root root  17M Feb 10 13:17 title.ratings.tsv\n"
          ],
          "name": "stdout"
        }
      ]
    },
    {
      "cell_type": "markdown",
      "metadata": {
        "id": "uYVuDLjV-ZvP",
        "colab_type": "text"
      },
      "source": [
        ""
      ]
    },
    {
      "cell_type": "code",
      "metadata": {
        "id": "mVZCddXA7vx1",
        "colab_type": "code",
        "outputId": "3be7f088-b034-4c45-de6f-473b2c06598f",
        "colab": {
          "base_uri": "https://localhost:8080/",
          "height": 153
        }
      },
      "source": [
        "import pandas as pd\n",
        "from functools import reduce\n",
        "\n",
        "# Reading TSV files: https://stackoverflow.com/a/34548894\n",
        "actors = pd.read_csv(\"name.basics.tsv\", sep='\\t')\n",
        "\n",
        "datasheets = []\n",
        "\n",
        "for filename in [\"akas\", \"basics\", \"crew\", \"ratings\"]:\n",
        "  filename = \"title.{}.tsv\".format(filename)\n",
        "  datasheet = pd.read_csv(filename, sep='\\t')\n",
        "  datasheets.append(datasheet)\n",
        "  print(filename, flush=True)\n",
        "\n"
      ],
      "execution_count": 0,
      "outputs": [
        {
          "output_type": "stream",
          "text": [
            "/usr/local/lib/python3.6/dist-packages/IPython/core/interactiveshell.py:2718: DtypeWarning: Columns (7) have mixed types. Specify dtype option on import or set low_memory=False.\n",
            "  interactivity=interactivity, compiler=compiler, result=result)\n"
          ],
          "name": "stderr"
        },
        {
          "output_type": "stream",
          "text": [
            "title.akas.tsv\n"
          ],
          "name": "stdout"
        },
        {
          "output_type": "stream",
          "text": [
            "/usr/local/lib/python3.6/dist-packages/IPython/core/interactiveshell.py:2718: DtypeWarning: Columns (5) have mixed types. Specify dtype option on import or set low_memory=False.\n",
            "  interactivity=interactivity, compiler=compiler, result=result)\n"
          ],
          "name": "stderr"
        },
        {
          "output_type": "stream",
          "text": [
            "title.basics.tsv\n",
            "title.crew.tsv\n",
            "title.ratings.tsv\n"
          ],
          "name": "stdout"
        }
      ]
    },
    {
      "cell_type": "code",
      "metadata": {
        "id": "yl1PW6PiOhvY",
        "colab_type": "code",
        "outputId": "d4820c12-177a-4780-f0d6-9357a476ed74",
        "colab": {
          "base_uri": "https://localhost:8080/",
          "height": 1000
        }
      },
      "source": [
        "print(datasheets)"
      ],
      "execution_count": 0,
      "outputs": [
        {
          "output_type": "stream",
          "text": [
            "[            titleId  ordering  ... attributes isOriginalTitle\n",
            "0         tt0000001         1  ...         \\N               0\n",
            "1         tt0000001         2  ...         \\N               0\n",
            "2         tt0000001         3  ...         \\N               0\n",
            "3         tt0000001         4  ...         \\N               0\n",
            "4         tt0000001         5  ...         \\N               1\n",
            "...             ...       ...  ...        ...             ...\n",
            "20406112  tt9916852         3  ...         \\N               0\n",
            "20406113  tt9916852         4  ...         \\N               0\n",
            "20406114  tt9916852         5  ...         \\N               0\n",
            "20406115  tt9916852         6  ...         \\N               0\n",
            "20406116  tt9916852         7  ...         \\N               0\n",
            "\n",
            "[20406117 rows x 8 columns],             tconst  titleType  ... runtimeMinutes                    genres\n",
            "0        tt0000001      short  ...              1         Documentary,Short\n",
            "1        tt0000002      short  ...              5           Animation,Short\n",
            "2        tt0000003      short  ...              4  Animation,Comedy,Romance\n",
            "3        tt0000004      short  ...             \\N           Animation,Short\n",
            "4        tt0000005      short  ...              1              Comedy,Short\n",
            "...            ...        ...  ...            ...                       ...\n",
            "6538025  tt9916848  tvEpisode  ...             \\N       Action,Drama,Family\n",
            "6538026  tt9916850  tvEpisode  ...             \\N       Action,Drama,Family\n",
            "6538027  tt9916852  tvEpisode  ...             \\N       Action,Drama,Family\n",
            "6538028  tt9916856      short  ...             27                     Short\n",
            "6538029  tt9916880  tvEpisode  ...             10   Animation,Comedy,Family\n",
            "\n",
            "[6538030 rows x 9 columns],             tconst            directors                        writers\n",
            "0        tt0000001            nm0005690                             \\N\n",
            "1        tt0000002            nm0721526                             \\N\n",
            "2        tt0000003            nm0721526                             \\N\n",
            "3        tt0000004            nm0721526                             \\N\n",
            "4        tt0000005            nm0005690                             \\N\n",
            "...            ...                  ...                            ...\n",
            "6538025  tt9916848  nm5519454,nm5519375  nm6182221,nm1628284,nm2921377\n",
            "6538026  tt9916850  nm5519375,nm5519454  nm6182221,nm1628284,nm2921377\n",
            "6538027  tt9916852  nm5519375,nm5519454  nm6182221,nm1628284,nm2921377\n",
            "6538028  tt9916856           nm10538645                      nm6951431\n",
            "6538029  tt9916880            nm0996406            nm1482639,nm2586970\n",
            "\n",
            "[6538030 rows x 3 columns],             tconst  averageRating  numVotes\n",
            "0        tt0000001            5.6      1586\n",
            "1        tt0000002            6.1       189\n",
            "2        tt0000003            6.5      1245\n",
            "3        tt0000004            6.2       117\n",
            "4        tt0000005            6.1      1991\n",
            "...            ...            ...       ...\n",
            "1024140  tt9916576            6.4        10\n",
            "1024141  tt9916578            8.5        15\n",
            "1024142  tt9916720            5.5        47\n",
            "1024143  tt9916766            6.7        11\n",
            "1024144  tt9916778            6.9        17\n",
            "\n",
            "[1024145 rows x 3 columns]]\n",
            "            nconst  ...                           knownForTitles\n",
            "0        nm0000001  ...  tt0043044,tt0072308,tt0053137,tt0050419\n",
            "1        nm0000002  ...  tt0117057,tt0071877,tt0038355,tt0037382\n",
            "2        nm0000003  ...  tt0054452,tt0059956,tt0057345,tt0049189\n",
            "3        nm0000004  ...  tt0080455,tt0078723,tt0077975,tt0072562\n",
            "4        nm0000005  ...  tt0050976,tt0083922,tt0050986,tt0069467\n",
            "...            ...  ...                                      ...\n",
            "9882280  nm9993714  ...                                tt2455546\n",
            "9882281  nm9993716  ...                                       \\N\n",
            "9882282  nm9993717  ...                                tt8736744\n",
            "9882283  nm9993718  ...                                       \\N\n",
            "9882284  nm9993719  ...                                       \\N\n",
            "\n",
            "[9882285 rows x 6 columns]\n"
          ],
          "name": "stdout"
        }
      ]
    },
    {
      "cell_type": "code",
      "metadata": {
        "id": "P0Qr-0ooyGTe",
        "colab_type": "code",
        "outputId": "21ab0288-3886-4d68-945c-be57bf09738b",
        "colab": {
          "base_uri": "https://localhost:8080/",
          "height": 507
        }
      },
      "source": [
        "actors.dropna(inplace=True)\n",
        "print(actors)"
      ],
      "execution_count": 0,
      "outputs": [
        {
          "output_type": "stream",
          "text": [
            "            nconst  ...                             knownForTitles\n",
            "0        nm0000001  ...    tt0043044,tt0072308,tt0053137,tt0050419\n",
            "1        nm0000002  ...    tt0117057,tt0071877,tt0038355,tt0037382\n",
            "2        nm0000003  ...    tt0054452,tt0059956,tt0057345,tt0049189\n",
            "3        nm0000004  ...    tt0080455,tt0078723,tt0077975,tt0072562\n",
            "4        nm0000005  ...    tt0050976,tt0083922,tt0050986,tt0069467\n",
            "...            ...  ...                                        ...\n",
            "9882275  nm9993709  ...  tt11702702,tt11697102,tt8744286,tt9163854\n",
            "9882279  nm9993713  ...                                  tt8325250\n",
            "9882280  nm9993714  ...                                  tt2455546\n",
            "9882282  nm9993717  ...                                  tt8736744\n",
            "9882283  nm9993718  ...                                         \\N\n",
            "\n",
            "[7889057 rows x 6 columns]\n",
            "<bound method NDFrame.head of             nconst  ...                             knownForTitles\n",
            "0        nm0000001  ...    tt0043044,tt0072308,tt0053137,tt0050419\n",
            "1        nm0000002  ...    tt0117057,tt0071877,tt0038355,tt0037382\n",
            "2        nm0000003  ...    tt0054452,tt0059956,tt0057345,tt0049189\n",
            "3        nm0000004  ...    tt0080455,tt0078723,tt0077975,tt0072562\n",
            "4        nm0000005  ...    tt0050976,tt0083922,tt0050986,tt0069467\n",
            "...            ...  ...                                        ...\n",
            "9882275  nm9993709  ...  tt11702702,tt11697102,tt8744286,tt9163854\n",
            "9882279  nm9993713  ...                                  tt8325250\n",
            "9882280  nm9993714  ...                                  tt2455546\n",
            "9882282  nm9993717  ...                                  tt8736744\n",
            "9882283  nm9993718  ...                                         \\N\n",
            "\n",
            "[7889057 rows x 6 columns]>\n"
          ],
          "name": "stdout"
        }
      ]
    },
    {
      "cell_type": "code",
      "metadata": {
        "id": "Lj7Uc-khAjgh",
        "colab_type": "code",
        "colab": {}
      },
      "source": [
        "df_merged = reduce((lambda left, right: pd.merge(left, right, left_on='titleId', right_on='tconst')), datasheets)"
      ],
      "execution_count": 0,
      "outputs": []
    },
    {
      "cell_type": "code",
      "metadata": {
        "id": "iBZpTLiRSVNG",
        "colab_type": "code",
        "colab": {}
      },
      "source": [
        "print(df_merged.writers)"
      ],
      "execution_count": 0,
      "outputs": []
    },
    {
      "cell_type": "code",
      "metadata": {
        "id": "TTAM854A0_Gd",
        "colab_type": "code",
        "colab": {}
      },
      "source": [
        "title_rating = datasheets[-1].set_index('tconst').T.to_dict('list')"
      ],
      "execution_count": 0,
      "outputs": []
    },
    {
      "cell_type": "code",
      "metadata": {
        "id": "U4xDcR3LW9PX",
        "colab_type": "code",
        "colab": {}
      },
      "source": [
        ""
      ],
      "execution_count": 0,
      "outputs": []
    },
    {
      "cell_type": "code",
      "metadata": {
        "id": "TBl0iPo42KtG",
        "colab_type": "code",
        "outputId": "0a846000-6316-4eaf-ed3c-dde9605f7bc6",
        "colab": {
          "base_uri": "https://localhost:8080/",
          "height": 34
        }
      },
      "source": [
        "title_rating['tt0000001'][0]"
      ],
      "execution_count": 0,
      "outputs": [
        {
          "output_type": "execute_result",
          "data": {
            "text/plain": [
              "5.6"
            ]
          },
          "metadata": {
            "tags": []
          },
          "execution_count": 23
        }
      ]
    },
    {
      "cell_type": "code",
      "metadata": {
        "id": "cUhk5VEa2KX7",
        "colab_type": "code",
        "colab": {}
      },
      "source": [
        ""
      ],
      "execution_count": 0,
      "outputs": []
    },
    {
      "cell_type": "code",
      "metadata": {
        "id": "28OSpCxiygNG",
        "colab_type": "code",
        "colab": {}
      },
      "source": [
        "# Preprocess actors\n",
        "def calculate_average(titles):\n",
        "  if titles == \"\\\\N\":\n",
        "    return 0\n",
        "  else:\n",
        "    titles = titles.split(\",\")\n",
        "    num_titles = len(titles)\n",
        "    title_array = np.zeros((num_titles, 2))\n",
        "    for i in range(num_titles):\n",
        "      if titles[i][0] == \"\\\\N\":\n",
        "        continue\n",
        "      \n",
        "      if titles[i] not in title_rating.keys():\n",
        "        return 0\n",
        "\n",
        "      title_array[i,:] = title_rating[titles[i]]\n",
        "    \n",
        "    return np.average(title_array[:,0], weights=title_array[:,1])\n",
        "\n",
        "    "
      ],
      "execution_count": 0,
      "outputs": []
    },
    {
      "cell_type": "code",
      "metadata": {
        "id": "whzBXucg5K6r",
        "colab_type": "code",
        "colab": {}
      },
      "source": [
        "actors['knownForTitles'] = actors['knownForTitles'].apply(calculate_average)"
      ],
      "execution_count": 0,
      "outputs": []
    },
    {
      "cell_type": "code",
      "metadata": {
        "id": "fDrUv0u86i_A",
        "colab_type": "code",
        "outputId": "a502bc00-2cbb-43fc-a9eb-7fb5a09bffcd",
        "colab": {
          "base_uri": "https://localhost:8080/",
          "height": 262
        }
      },
      "source": [
        "print(actors)"
      ],
      "execution_count": 0,
      "outputs": [
        {
          "output_type": "stream",
          "text": [
            "            nconst  ... knownForTitles\n",
            "0        nm0000001  ...       6.978739\n",
            "1        nm0000002  ...       7.608399\n",
            "2        nm0000003  ...       7.261047\n",
            "3        nm0000004  ...       7.621220\n",
            "4        nm0000005  ...       8.174598\n",
            "...            ...  ...            ...\n",
            "9882275  nm9993709  ...       0.000000\n",
            "9882279  nm9993713  ...       0.000000\n",
            "9882280  nm9993714  ...       7.000000\n",
            "9882282  nm9993717  ...       0.000000\n",
            "9882283  nm9993718  ...       0.000000\n",
            "\n",
            "[7889057 rows x 6 columns]\n"
          ],
          "name": "stdout"
        }
      ]
    },
    {
      "cell_type": "code",
      "metadata": {
        "id": "QDSR2nuLW_fm",
        "colab_type": "code",
        "colab": {}
      },
      "source": [
        "actor_weighted_rating = actors.set_index('nconst').T.to_dict('list')"
      ],
      "execution_count": 0,
      "outputs": []
    },
    {
      "cell_type": "code",
      "metadata": {
        "id": "uwUd_asmXENh",
        "colab_type": "code",
        "colab": {}
      },
      "source": [
        "principals = pd.read_csv(\"title.principals.tsv\", sep='\\t')\n",
        "\n",
        "def calculate_average_actor_rating(actors):\n",
        "  if actors == \"\\\\n\":\n",
        "    return 0\n",
        "\n",
        "  list_of_actors = actors.split(',')\n",
        "\n",
        "  average_rating = 0\n",
        "  for actor in list_of_actors:\n",
        "    average_rating += actor_weight_rating[actor]\n",
        "  \n",
        "  average_rating = average_rating / len(list_of_actors)\n",
        "  return average_rating"
      ],
      "execution_count": 0,
      "outputs": []
    },
    {
      "cell_type": "code",
      "metadata": {
        "id": "ZevF83NpYFb2",
        "colab_type": "code",
        "outputId": "2f8a3a34-6794-494f-b46e-7c36c3e11ba7",
        "colab": {
          "base_uri": "https://localhost:8080/"
        }
      },
      "source": [
        "actor_weighted_rating['nm0000005']"
      ],
      "execution_count": 0,
      "outputs": [
        {
          "output_type": "execute_result",
          "data": {
            "text/plain": [
              "['Ingmar Bergman', '1918', '2007', 'writer,director,actor', 8.174597692864552]"
            ]
          },
          "metadata": {
            "tags": []
          },
          "execution_count": 48
        }
      ]
    }
  ]
}